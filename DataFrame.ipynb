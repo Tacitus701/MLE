{
 "cells": [
  {
   "cell_type": "code",
   "execution_count": 1,
   "id": "93120eff",
   "metadata": {},
   "outputs": [],
   "source": [
    "import pickle\n",
    "import pyspark\n",
    "import cv2\n",
    "import numpy as np\n",
    "from json import loads\n",
    "import matplotlib.pyplot as plt\n",
    "from pyspark.sql import *"
   ]
  },
  {
   "cell_type": "code",
   "execution_count": 2,
   "id": "857b2eef",
   "metadata": {},
   "outputs": [],
   "source": [
    "def read_data(filename):\n",
    "    df = []\n",
    "    f = open(filename, \"rb\")\n",
    "    while True:\n",
    "        try:\n",
    "            obj = pickle.load(f)\n",
    "            df.append(obj)\n",
    "        except:\n",
    "            f.close\n",
    "            return df"
   ]
  },
  {
   "cell_type": "code",
   "execution_count": 3,
   "id": "95f4ded2",
   "metadata": {},
   "outputs": [],
   "source": [
    "df = read_data(\"data\")"
   ]
  },
  {
   "cell_type": "code",
   "execution_count": 4,
   "id": "f480d00d",
   "metadata": {},
   "outputs": [
    {
     "name": "stderr",
     "output_type": "stream",
     "text": [
      "21/12/17 13:01:46 WARN Utils: Your hostname, robin-hppaviliondv6notebookpc resolves to a loopback address: 127.0.1.1; using 192.168.1.17 instead (on interface wlo1)\n",
      "21/12/17 13:01:46 WARN Utils: Set SPARK_LOCAL_IP if you need to bind to another address\n",
      "WARNING: An illegal reflective access operation has occurred\n",
      "WARNING: Illegal reflective access by org.apache.spark.unsafe.Platform (file:/home/robinv/.local/lib/python3.9/site-packages/pyspark/jars/spark-unsafe_2.12-3.2.0.jar) to constructor java.nio.DirectByteBuffer(long,int)\n",
      "WARNING: Please consider reporting this to the maintainers of org.apache.spark.unsafe.Platform\n",
      "WARNING: Use --illegal-access=warn to enable warnings of further illegal reflective access operations\n",
      "WARNING: All illegal access operations will be denied in a future release\n",
      "Using Spark's default log4j profile: org/apache/spark/log4j-defaults.properties\n",
      "Setting default log level to \"WARN\".\n",
      "To adjust logging level use sc.setLogLevel(newLevel). For SparkR, use setLogLevel(newLevel).\n",
      "21/12/17 13:01:47 WARN NativeCodeLoader: Unable to load native-hadoop library for your platform... using builtin-java classes where applicable\n",
      "/home/robinv/.local/lib/python3.9/site-packages/pyspark/sql/context.py:77: FutureWarning: Deprecated in 3.0.0. Use SparkSession.builder.getOrCreate() instead.\n",
      "  warnings.warn(\n"
     ]
    }
   ],
   "source": [
    "sc = pyspark.SparkContext()\n",
    "sqlContext = SQLContext(sc)"
   ]
  },
  {
   "cell_type": "code",
   "execution_count": 5,
   "id": "b73439cb",
   "metadata": {},
   "outputs": [
    {
     "name": "stderr",
     "output_type": "stream",
     "text": [
      "                                                                                \r"
     ]
    },
    {
     "name": "stdout",
     "output_type": "stream",
     "text": [
      "+----+--------------------+--------------------+\n",
      "|  id|                date|                data|\n",
      "+----+--------------------+--------------------+\n",
      "|4068|\"2021-12-17T12:59...|[[[129, 47, 185],...|\n",
      "|4068|\"2021-12-17T12:59...|[[[174, 84, 97], ...|\n",
      "|4068|\"2021-12-17T12:59...|[[[220, 142, 238]...|\n",
      "|4068|\"2021-12-17T12:59...|[[[157, 93, 103],...|\n",
      "|4068|\"2021-12-17T12:59...|[[[114, 211, 159]...|\n",
      "|4068|\"2021-12-17T12:59...|[[[117, 97, 49], ...|\n",
      "|4068|\"2021-12-17T12:59...|[[[233, 216, 174]...|\n",
      "|4068|\"2021-12-17T12:59...|[[[166, 70, 106],...|\n",
      "|4068|\"2021-12-17T12:59...|[[[134, 150, 2], ...|\n",
      "|4068|\"2021-12-17T13:00...|[[[166, 14, 169],...|\n",
      "|4068|\"2021-12-17T13:00...|[[[177, 126, 220]...|\n",
      "|4068|\"2021-12-17T13:00...|[[[186, 171, 129]...|\n",
      "|4068|\"2021-12-17T13:00...|[[[77, 154, 59], ...|\n",
      "|4068|\"2021-12-17T13:00...|[[[221, 138, 81],...|\n",
      "|4068|\"2021-12-17T13:00...|[[[219, 84, 20], ...|\n",
      "|4068|\"2021-12-17T13:00...|[[[60, 67, 87], [...|\n",
      "|4068|\"2021-12-17T13:00...|[[[136, 172, 54],...|\n",
      "|4068|\"2021-12-17T13:00...|[[[204, 9, 136], ...|\n",
      "|4068|\"2021-12-17T13:00...|[[[64, 246, 98], ...|\n",
      "|4068|\"2021-12-17T13:00...|[[[249, 112, 0], ...|\n",
      "+----+--------------------+--------------------+\n",
      "only showing top 20 rows\n",
      "\n"
     ]
    }
   ],
   "source": [
    "df2 = sqlContext.createDataFrame(df)\n",
    "df2.show()"
   ]
  },
  {
   "cell_type": "code",
   "execution_count": 6,
   "id": "d958baaa",
   "metadata": {},
   "outputs": [],
   "source": [
    "def to_numpy(img):\n",
    "    img = np.array([np.array(x, dtype=np.float32) for x in img]) / 255\n",
    "    return img"
   ]
  },
  {
   "cell_type": "code",
   "execution_count": 7,
   "id": "01827a9d",
   "metadata": {},
   "outputs": [
    {
     "data": {
      "image/png": "[encoded data removed]",
      "text/plain": [
       "<Figure size 432x288 with 1 Axes>"
      ]
     },
     "metadata": {
      "needs_background": "light"
     },
     "output_type": "display_data"
    },
    {
     "data": {
      "image/png": "[encoded data removed]",
      "text/plain": [
       "<Figure size 432x288 with 1 Axes>"
      ]
     },
     "metadata": {
      "needs_background": "light"
     },
     "output_type": "display_data"
    }
   ],
   "source": [
    "#select all data from df2 and store it in a df named images\n",
    "images = df2.select('data')\n",
    "for e in images.collect():\n",
    "    img = to_numpy(loads(e.data))\n",
    "    gray = cv2.cvtColor(img, cv2.COLOR_RGB2GRAY)\n",
    "    with_sobel = cv2.Sobel(gray, cv2.CV_64F, 1, 1, ksize=5)\n",
    "    plt.imshow(gray, cmap='gray')\n",
    "    plt.show()\n",
    "    plt.imshow(with_sobel, cmap='gray')\n",
    "    plt.show()\n",
    "    break"
   ]
  },
  {
   "cell_type": "code",
   "execution_count": 8,
   "id": "ab7e7de0",
   "metadata": {},
   "outputs": [
    {
     "data": {
      "image/png": "[encoded data removed]",
      "text/plain": [
       "<Figure size 432x288 with 1 Axes>"
      ]
     },
     "metadata": {
      "needs_background": "light"
     },
     "output_type": "display_data"
    }
   ],
   "source": [
    "# sql request to get all the images with some id\n",
    "images_client1 = df2.select('data').where(df2.id == (df2.select('id').distinct().collect()[0][0]))\n",
    "\n",
    "for image in images_client1.collect():\n",
    "    plt.imshow(to_numpy(loads(image.data)))\n",
    "    plt.show()\n",
    "    break"
   ]
  }
 ],
 "metadata": {
  "kernelspec": {
   "display_name": "Python 3 (ipykernel)",
   "language": "python",
   "name": "python3"
  },
  "language_info": {
   "codemirror_mode": {
    "name": "ipython",
    "version": 3
   },
   "file_extension": ".py",
   "mimetype": "text/x-python",
   "name": "python",
   "nbconvert_exporter": "python",
   "pygments_lexer": "ipython3",
   "version": "3.9.7"
  }
 },
 "nbformat": 4,
 "nbformat_minor": 5
}
