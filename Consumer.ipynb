{
 "cells": [
  {
   "cell_type": "code",
   "execution_count": null,
   "id": "90576bcf",
   "metadata": {},
   "outputs": [],
   "source": [
    "from json import dumps\n",
    "from time import sleep\n",
    "from kafka import KafkaConsumer\n",
    "import pyspark\n",
    "from pyspark.sql import *\n",
    "import pickle"
   ]
  },
  {
   "cell_type": "code",
   "execution_count": null,
   "id": "53377184",
   "metadata": {},
   "outputs": [],
   "source": [
    "consumer = KafkaConsumer(\n",
    "    'my-topic',\n",
    "     bootstrap_servers=['localhost:9092'],\n",
    "     auto_offset_reset='earliest',\n",
    "     enable_auto_commit=True,\n",
    "     group_id='my-group',\n",
    "     value_deserializer=lambda x: loads(x.decode('utf-8')))"
   ]
  },
  {
   "cell_type": "code",
   "execution_count": null,
   "id": "c4a5c3e4",
   "metadata": {},
   "outputs": [],
   "source": [
    "df = []"
   ]
  },
  {
   "cell_type": "code",
   "execution_count": null,
   "id": "172f3ebe",
   "metadata": {
    "scrolled": true
   },
   "outputs": [],
   "source": [
    "count = 0\n",
    "for message in consumer:\n",
    "    \n",
    "    id = message.value['id']\n",
    "    date = message.value['date']\n",
    "    data = message.value['data']\n",
    "    \n",
    "    df.append(pyspark.Row(id=id, date=date, data=data))\n",
    "    count += 1\n",
    "    if count == 10:\n",
    "        count = 0\n",
    "        f = open(\"data\", \"ab+\")\n",
    "        for elt in df:\n",
    "            pickle.dump(elt, f)\n",
    "        df = []\n",
    "        f.close()\n",
    "        print(\"Wrote to data file\")"
   ]
  },
  {
   "cell_type": "code",
   "execution_count": null,
   "id": "b6cf72c8",
   "metadata": {},
   "outputs": [],
   "source": []
  }
 ],
 "metadata": {
  "kernelspec": {
   "display_name": "Python 3 (ipykernel)",
   "language": "python",
   "name": "python3"
  },
  "language_info": {
   "codemirror_mode": {
    "name": "ipython",
    "version": 3
   },
   "file_extension": ".py",
   "mimetype": "text/x-python",
   "name": "python",
   "nbconvert_exporter": "python",
   "pygments_lexer": "ipython3",
   "version": "3.9.7"
  }
 },
 "nbformat": 4,
 "nbformat_minor": 5
}
