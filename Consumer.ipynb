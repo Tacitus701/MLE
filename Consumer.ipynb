{
 "cells": [
  {
   "cell_type": "code",
   "execution_count": 1,
   "id": "90576bcf",
   "metadata": {},
   "outputs": [],
   "source": [
    "from json import dumps\n",
    "from time import sleep\n",
    "from kafka import KafkaProducer\n",
    "from kafka import KafkaConsumer\n",
    "from json import loads\n",
    "import pyspark\n",
    "from pyspark.sql import *\n",
    "import matplotlib.pyplot as plt\n",
    "import cv2"
   ]
  },
  {
   "cell_type": "code",
   "execution_count": 2,
   "id": "53377184",
   "metadata": {},
   "outputs": [],
   "source": [
    "consumer = KafkaConsumer(\n",
    "    'my-topic',\n",
    "     bootstrap_servers=['localhost:9092'],\n",
    "     auto_offset_reset='earliest',\n",
    "     enable_auto_commit=True,\n",
    "     group_id='my-group',\n",
    "     value_deserializer=lambda x: loads(x.decode('utf-8')))"
   ]
  },
  {
   "cell_type": "code",
   "execution_count": 3,
   "id": "6e7c1f4d",
   "metadata": {},
   "outputs": [
    {
     "name": "stderr",
     "output_type": "stream",
     "text": [
      "/home/patate/.local/lib/python3.8/site-packages/pyspark/sql/context.py:77: FutureWarning: Deprecated in 3.0.0. Use SparkSession.builder.getOrCreate() instead.\n",
      "  warnings.warn(\n"
     ]
    }
   ],
   "source": [
    "sc = pyspark.SparkContext()\n",
    "sqlContext = SQLContext(sc)"
   ]
  },
  {
   "cell_type": "code",
   "execution_count": 4,
   "id": "c4a5c3e4",
   "metadata": {},
   "outputs": [],
   "source": [
    "df = []"
   ]
  },
  {
   "cell_type": "code",
   "execution_count": null,
   "id": "172f3ebe",
   "metadata": {
    "scrolled": true
   },
   "outputs": [],
   "source": [
    "count = 0\n",
    "for message in consumer:\n",
    "    # message value and key are raw bytes -- decode if necessary!\n",
    "    # e.g., for unicode: `message.value.decode('utf-8')`\n",
    "    print (\"%s:%d:%d:\" % (message.topic, message.partition,\n",
    "                                          message.offset))\n",
    "    id = message.value['id']\n",
    "    date = message.value['date']\n",
    "    data = message.value['data']\n",
    "    \n",
    "    df.append(pyspark.Row(id=id, date=date, data=data))"
   ]
  },
  {
   "cell_type": "code",
   "execution_count": 20,
   "id": "2f839f94",
   "metadata": {},
   "outputs": [
    {
     "name": "stdout",
     "output_type": "stream",
     "text": [
      "+----+--------------------+--------------------+\n",
      "|  id|                date|                data|\n",
      "+----+--------------------+--------------------+\n",
      "|1313|\"2021-12-15T13:16...|[[[130, 131, 134]...|\n",
      "|1313|\"2021-12-15T13:16...|[[[39, 73, 227], ...|\n",
      "|1313|\"2021-12-15T13:16...|[[[240, 208, 209]...|\n",
      "|1313|\"2021-12-15T13:17...|[[[213, 141, 215]...|\n",
      "|1313|\"2021-12-15T13:17...|[[[136, 41, 116],...|\n",
      "|1313|\"2021-12-15T13:17...|[[[103, 114, 161]...|\n",
      "|1313|\"2021-12-15T13:17...|[[[115, 168, 135]...|\n",
      "|1313|\"2021-12-15T13:17...|[[[75, 173, 88], ...|\n",
      "|1313|\"2021-12-15T13:17...|[[[210, 115, 185]...|\n",
      "|1313|\"2021-12-15T13:17...|[[[227, 9, 248], ...|\n",
      "|1313|\"2021-12-15T13:18...|[[[240, 186, 38],...|\n",
      "|1313|\"2021-12-15T13:18...|[[[76, 94, 4], [7...|\n",
      "|1313|\"2021-12-15T13:18...|[[[139, 51, 158],...|\n",
      "|1313|\"2021-12-15T13:18...|[[[183, 179, 94],...|\n",
      "|1313|\"2021-12-15T13:18...|[[[163, 92, 130],...|\n",
      "|1313|\"2021-12-15T13:18...|[[[40, 206, 61], ...|\n",
      "|2176|\"2021-12-15T13:20...|[[[81, 248, 60], ...|\n",
      "|2176|\"2021-12-15T13:20...|[[[147, 249, 47],...|\n",
      "|2176|\"2021-12-15T13:20...|[[[39, 231, 175],...|\n",
      "|2176|\"2021-12-15T13:20...|[[[172, 234, 251]...|\n",
      "+----+--------------------+--------------------+\n",
      "only showing top 20 rows\n",
      "\n"
     ]
    }
   ],
   "source": [
    "df2 = sqlContext.createDataFrame(df)\n",
    "df2.show()"
   ]
  },
  {
   "cell_type": "code",
   "execution_count": 21,
   "id": "0ddc4241",
   "metadata": {},
   "outputs": [],
   "source": [
    "def to_numpy(img):\n",
    "    img = np.array([np.array(x, dtype=np.float32) for x in img]) / 255\n",
    "    return img"
   ]
  },
  {
   "cell_type": "code",
   "execution_count": 22,
   "id": "892b0e5e",
   "metadata": {},
   "outputs": [
    {
     "data": {
      "image/png": "[encoded data removed]",
      "text/plain": [
       "<Figure size 432x288 with 1 Axes>"
      ]
     },
     "metadata": {
      "needs_background": "light"
     },
     "output_type": "display_data"
    },
    {
     "data": {
      "image/png": "[encoded data removed]",
      "text/plain": [
       "<Figure size 432x288 with 1 Axes>"
      ]
     },
     "metadata": {
      "needs_background": "light"
     },
     "output_type": "display_data"
    }
   ],
   "source": [
    "import numpy as np\n",
    "\n",
    "#select all data from df2 and store it in a df named images\n",
    "images = df2.select('data')\n",
    "for e in images.collect():\n",
    "    img = to_numpy(loads(e.data))\n",
    "    gray = cv2.cvtColor(img, cv2.COLOR_RGB2GRAY)\n",
    "    with_sobel = cv2.Sobel(gray, cv2.CV_64F, 1, 1, ksize=5)\n",
    "    plt.imshow(gray, cmap='gray')\n",
    "    plt.show()\n",
    "    plt.imshow(with_sobel, cmap='gray')\n",
    "    plt.show()\n",
    "    break"
   ]
  },
  {
   "cell_type": "code",
   "execution_count": 32,
   "id": "eb594849",
   "metadata": {},
   "outputs": [
    {
     "data": {
      "image/png": "[encoded data removed]",
      "text/plain": [
       "<Figure size 432x288 with 1 Axes>"
      ]
     },
     "metadata": {
      "needs_background": "light"
     },
     "output_type": "display_data"
    }
   ],
   "source": [
    "# sql request to get all the images with some id\n",
    "images_client1 = df2.select('data').where(df2.id == (df2.select('id').distinct().collect()[0][0]))\n",
    "\n",
    "for image in images_client1.collect():\n",
    "    plt.imshow(to_numpy(loads(image.data)))\n",
    "    plt.show()\n",
    "    break"
   ]
  },
  {
   "cell_type": "code",
   "execution_count": null,
   "id": "10ae01db",
   "metadata": {},
   "outputs": [],
   "source": []
  }
 ],
 "metadata": {
  "kernelspec": {
   "display_name": "Python 3 (ipykernel)",
   "language": "python",
   "name": "python3"
  },
  "language_info": {
   "codemirror_mode": {
    "name": "ipython",
    "version": 3
   },
   "file_extension": ".py",
   "mimetype": "text/x-python",
   "name": "python",
   "nbconvert_exporter": "python",
   "pygments_lexer": "ipython3",
   "version": "3.8.10"
  }
 },
 "nbformat": 4,
 "nbformat_minor": 5
}
